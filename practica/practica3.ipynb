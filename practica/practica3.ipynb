{
 "cells": [
  {
   "cell_type": "code",
   "execution_count": 1,
   "metadata": {},
   "outputs": [],
   "source": [
    "import selenium\n",
    "from bs4 import BeautifulSoup as c\n",
    "from selenium import webdriver\n",
    "from selenium.webdriver.edge.service import Service as EdgeService\n",
    "from webdriver_manager.microsoft import EdgeChromiumDriverManager\n"
   ]
  },
  {
   "cell_type": "code",
   "execution_count": 2,
   "metadata": {},
   "outputs": [],
   "source": [
    "driver = webdriver.Edge(service=EdgeService(EdgeChromiumDriverManager().install()))"
   ]
  },
  {
   "cell_type": "code",
   "execution_count": 3,
   "metadata": {},
   "outputs": [],
   "source": [
    "url=r'https://www.tvn-2.com/'\n",
    "driver.get(url)\n",
    "estado_actual=c(driver.page_source,'html.parser')\n",
    "driver.quit()"
   ]
  },
  {
   "cell_type": "code",
   "execution_count": 4,
   "metadata": {},
   "outputs": [
    {
     "name": "stdout",
     "output_type": "stream",
     "text": [
      "Panamá custodia y protege a niño de cinco años abandonado en selva de Darién\n",
      "Alerta | Prepare su paraguas, pronostican lluvias y tormentas eléctricas en varias partes del país\n",
      "Serie del Caribe: Panamá mantiene viva la esperanza de estar en Miami 2024\n",
      "Flor de Caña y bares de Panamá continuarán creando cócteles sostenibles para un futuro más verde\n",
      "LPF: Tauro FC le da la estocada al Sporting SM y está en la final\n",
      "Sismo de magnitud 7,1 sacude el océano Pacífico al este de Nueva Caledonia\n",
      "Cannes abre paso a Scorsese, De Niro y DiCaprio con un thriller\n",
      "Meduca y docentes llegan a un acuerdo sobre los pagos atrasados\n",
      "¡Terrible! Condenan a 10 años de cárcel a padres que dejaron morir a su hija de obesidad\n",
      "Atención | Venta de arroz a 0.25 centavos la libra este sábado 20 de mayo\n",
      "Arranca la Operación 'Beta', la apuesta para combatir el crimen organizado\n",
      "Lo que se sabe y no se sabe de los niños perdidos en la selva de Colombia\n",
      "Tribunal Electoral se reúne con precandidatos para agilizar revisión de firmas\n",
      "Calendario de las primarias de los partidos políticos con menos de 100 mil adherentes\n",
      "Tribunal Electoral realizó capacitaciones del voto adelantado\n",
      "Aprueban traslado de partida para financiar primarias de partidos políticos\n",
      "Lombana oficializa su candidatura presidencial\n",
      "Meduca invierte $1.2 millones en la compra de aulas modulares\n",
      "Cancillería y Ministerio de Seguridad hablan sobre caso de menor en frontera de EEUU\n",
      "Más de 3 mil menores de edad han desertado de las escuelas en San Miguelito\n",
      "Panamá realiza exportación de carne de cerdo a Nicaragua\n",
      "Atención | Venta de arroz a 0.25 centavos la libra este sábado 20 de mayo\n",
      "Mundo Verde: Arrecifes, los multifamiliares marinos\n",
      "Interpol captura a mexicano requerido por narcotráfico en el aeropuerto de Tocumen\n",
      "TVN Noticias recibe premios del Fórum de Periodistas\n",
      "Plantas potabilizadoras en Chiriquí presentan niveles muy bajos\n",
      "Padres de familia están cansados de esperar que terminen la construcción de escuela en Penonomé\n",
      "Entregan orden de proceder del plan de Ordenamiento Territorial de Arraiján y La Chorrera\n",
      "En Panamá hay más de 6 mil teléfonos públicos, una cifra lejos de ser igual a los 6 millones de celulares\n",
      "Arcos Dorados en alianza con la Fepafut en pro del deporte\n",
      "El calvario de las aguas negras en Los Andes 2\n",
      "Ride de Versus: ¿Qué dijo Jhonathan Chávez sobre su experiencia en este megaproyecto?\n",
      "Isaías Ortega: El Nuevo Retador de Versus\n",
      "Cuarta gala de Versus | Descubre qué pasó con las sillas VIP\n",
      "¡Calcula aquí tu lista escolar!\n",
      "Los “sís” en la lonchera saludable para este regreso a clases\n",
      "Mi niño no se quiere quedar solo en la escuela: El apego antes de la edad escolar\n",
      "P&G lanza el movimiento #PrideSkill para fomentar la diversidad en el mercado laboral y celebrar el orgullo LGBTQI+\n",
      "Digicel Panamá lanza proyecto de reciclaje de celulares y tabletas\n",
      "Flor de Caña y bares de Panamá continuarán creando cócteles sostenibles para un futuro más verde\n",
      "Terpel lanza su fundación en Panamá impulsando la educación como motor del desarrollo del país\n",
      "Islas de Calor: ¿Cómo los árboles nos hubieran salvado?\n",
      "Fecundación artificial, alternativa para salvar a las ranas panameñas en peligro de extinción\n",
      "Victoriano Lorenzo: la ejecución que definió la historia de Panamá\n",
      "Osvaldo Ayala sigue mejorando en el hospital tras sufrir infarto\n",
      "Boza anunció su primera gira por 20 ciudades de EEUU\n",
      "Beso milenario: Estudio revela que los humanos llevan besándose por más de 4 mil años\n",
      "¿Se ofendió? Revelan que Piqué no sabía de la aparición de sus hijos en 'Acróstico’\n",
      "Palma de Oro honorífica para Harrison Ford en estreno de Indiana Jones en Cannes\n",
      "Sting predice una 'batalla' entre artistas e inteligencia artificial\n",
      "Nos Fuimos | Veraguas, destinos del Pacífico\n",
      "Nos Fuimos | Veraguas: naturaleza y aventura\n",
      "Nos Fuimos | Chiriquí, sus tesoros naturales\n",
      "LPF: Tauro FC le da la estocada al Sporting SM y está en la final\n",
      "Panamá se quedó corto ante México en Premundial Sub-12\n",
      "¡Escándalo! Irak recibe serias acusaciones a vísperas del Mundial Sub-20\n",
      "Resultado NBA: Heat mantienen a los Celtics sofocados en su calor\n",
      "MLB: Sosa y Caballero presentes en causas perdidas de Phillies y Marineros\n",
      "Liga Prom: Aplican sanciones a clubes por altercados en Los Andes\n",
      "El G7 anuncia más sanciones contra Rusia y espera llegada de Zelenski a Japón\n",
      "Biden abre la vía a la entrega de aviones F-16 a Ucrania\n",
      "Negociaciones por deuda en EEUU entran en 'pausa'\n",
      "Justicia suspende a fuerte aspirante a la presidencia en Guatemala\n",
      "Lo que se sabe y no se sabe de los niños perdidos en la selva de Colombia\n",
      "Decenas de miles protestan por ola de violencia en Serbia\n",
      "Sinfonía del Espacio: Una obra musical inspirada en imágenes de la NASA\n",
      "¿Carne de los dioses? Exploran el poder de los hongos alucinógenos en Oregón\n",
      "¿Cómo está Panamá en materia de seguridad vial?\n",
      "Hombres los más propensos a presentar problemas cardiacos en Panamá\n",
      "Analizan situación de productores frente a sequia prolongada\n",
      "Analizan proyecto portuario en Chiriquí\n",
      "Autoridades tras la pista de delincuentes dedicados a hurto de computadoras\n"
     ]
    }
   ],
   "source": [
    "for a in estado_actual.find_all('h2'):\n",
    "    print(a.text)"
   ]
  }
 ],
 "metadata": {
  "kernelspec": {
   "display_name": "Python 3",
   "language": "python",
   "name": "python3"
  },
  "language_info": {
   "codemirror_mode": {
    "name": "ipython",
    "version": 3
   },
   "file_extension": ".py",
   "mimetype": "text/x-python",
   "name": "python",
   "nbconvert_exporter": "python",
   "pygments_lexer": "ipython3",
   "version": "3.11.0"
  },
  "orig_nbformat": 4
 },
 "nbformat": 4,
 "nbformat_minor": 2
}
