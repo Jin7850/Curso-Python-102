{
 "cells": [
  {
   "cell_type": "code",
   "execution_count": 1,
   "metadata": {},
   "outputs": [
    {
     "name": "stdout",
     "output_type": "stream",
     "text": [
      "Producto,Precio,Impuesto\n",
      "Leche,1.59,N\n",
      "Cebolla,0.34,N\n",
      "Guineo,0.22,S\n",
      "Papas,0.48,S\n",
      "Arroz,2.93,S\n",
      "Huevos,2.02,N\n",
      "Pollo,0.60,N\n",
      "Carne,1.7,S\n",
      "\n"
     ]
    }
   ],
   "source": [
    "f=open(\"ListaCompras\", \"r\")\n",
    "print(f.read())"
   ]
  },
  {
   "cell_type": "code",
   "execution_count": 12,
   "metadata": {},
   "outputs": [],
   "source": [
    "def encontrar_articulo(producto):\n",
    "    acumulador=0\n",
    "    with open('ListaCompras.txt') as lista:\n",
    "       for i in lista.readlines():\n",
    "            a = i.split(\",\")\n",
    "            if (a[0]==producto):\n",
    "                impuesto = input(\"Este articulo cobra impuesto s/n\")\n",
    "                if (impuesto == \"s\"):\n",
    "                    acumulador += float(a[1])*1.07\n",
    "                    print (a[0],\" \",a[1], \"+\",a[2])\n",
    "                elif (impuesto == \"n\"):\n",
    "                    acumulador += float(a[1])\n",
    "                    print (a[0],\" \",a[1])\n",
    "                lista.append(i)\n",
    "                \n",
    "            else:\n",
    "                    print(\"Este articulo no se encuentra en inventario\")"
   ]
  },
  {
   "cell_type": "code",
   "execution_count": 13,
   "metadata": {},
   "outputs": [],
   "source": [
    "continuar = 's'\n",
    "\n",
    "while continuar == 's':\n",
    "    articulo=input(\"Ingrese articulo a comprar\")\n",
    "    listado=open('ListaCompras.txt')\n",
    "    encontrar_articulo(articulo)    \n",
    "    continuar=input(\"Desea continuar? s/n\")\n",
    "\n",
    "print('Total a pagar: ')\n",
    "print(encontrar_articulo.acumulador())          "
   ]
  }
 ],
 "metadata": {
  "kernelspec": {
   "display_name": "Python 3",
   "language": "python",
   "name": "python3"
  },
  "language_info": {
   "codemirror_mode": {
    "name": "ipython",
    "version": 3
   },
   "file_extension": ".py",
   "mimetype": "text/x-python",
   "name": "python",
   "nbconvert_exporter": "python",
   "pygments_lexer": "ipython3",
   "version": "3.11.0"
  },
  "orig_nbformat": 4
 },
 "nbformat": 4,
 "nbformat_minor": 2
}
