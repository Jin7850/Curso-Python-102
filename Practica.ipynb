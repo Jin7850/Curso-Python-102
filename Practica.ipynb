{
 "cells": [
  {
   "cell_type": "code",
   "execution_count": 2,
   "metadata": {},
   "outputs": [
    {
     "name": "stdout",
     "output_type": "stream",
     "text": [
      "3\n"
     ]
    }
   ],
   "source": [
    "aa=2023\n",
    "an=int(input(\"Ingrese año de nacimiento: \"))\n",
    "edad=aa-an\n",
    "print(edad)"
   ]
  },
  {
   "cell_type": "code",
   "execution_count": 3,
   "metadata": {},
   "outputs": [
    {
     "name": "stdout",
     "output_type": "stream",
     "text": [
      "125\n"
     ]
    }
   ],
   "source": [
    "p1=int(input('precio1: '))\n",
    "p1+=int(input('precio2: '))\n",
    "p1+=int(input('precio3: '))\n",
    "p1+=int(input('precio4: '))\n",
    "p1+=int(input('precio5: '))\n",
    "print(p1)"
   ]
  },
  {
   "cell_type": "code",
   "execution_count": 4,
   "metadata": {},
   "outputs": [
    {
     "name": "stdout",
     "output_type": "stream",
     "text": [
      "david.escobar@utp.ac.pa\n"
     ]
    }
   ],
   "source": [
    "a=input('nombre: ')\n",
    "b=input('apellido: ')\n",
    "correo=a+'.'+b+'@utp.ac.pa'\n",
    "print(correo)\n"
   ]
  },
  {
   "cell_type": "code",
   "execution_count": 5,
   "metadata": {},
   "outputs": [
    {
     "name": "stdout",
     "output_type": "stream",
     "text": [
      "9\n",
      "6.0\n"
     ]
    }
   ],
   "source": [
    "lado=int(input('lado: '))\n",
    "base=int(input('base: '))\n",
    "altura=int(input('altura: '))\n",
    "\n",
    "perimetro=3*lado\n",
    "area=(base*altura)/2\n",
    "print(perimetro)\n",
    "print(area)"
   ]
  },
  {
   "cell_type": "code",
   "execution_count": 6,
   "metadata": {},
   "outputs": [
    {
     "name": "stdout",
     "output_type": "stream",
     "text": [
      "20\n",
      "25\n"
     ]
    }
   ],
   "source": [
    "lado2=int(input('lado: '))\n",
    "\n",
    "perimetro2=4*lado2\n",
    "area2=lado2*lado2\n",
    "print(perimetro2)\n",
    "print(area2)\n",
    "\n"
   ]
  },
  {
   "cell_type": "code",
   "execution_count": 7,
   "metadata": {},
   "outputs": [
    {
     "name": "stdout",
     "output_type": "stream",
     "text": [
      "37.68\n",
      "113.04\n"
     ]
    }
   ],
   "source": [
    "radio=int(input('radio'))\n",
    "\n",
    "perimetro3=3.14*2*radio\n",
    "area3=3.14*(radio**2)\n",
    "print(perimetro3)\n",
    "print(area3)\n"
   ]
  }
 ],
 "metadata": {
  "kernelspec": {
   "display_name": "Python 3",
   "language": "python",
   "name": "python3"
  },
  "language_info": {
   "codemirror_mode": {
    "name": "ipython",
    "version": 3
   },
   "file_extension": ".py",
   "mimetype": "text/x-python",
   "name": "python",
   "nbconvert_exporter": "python",
   "pygments_lexer": "ipython3",
   "version": "3.11.0"
  },
  "orig_nbformat": 4
 },
 "nbformat": 4,
 "nbformat_minor": 2
}
